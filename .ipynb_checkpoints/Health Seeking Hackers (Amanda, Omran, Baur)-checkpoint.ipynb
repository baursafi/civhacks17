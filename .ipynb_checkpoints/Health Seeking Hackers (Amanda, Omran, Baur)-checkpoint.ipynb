{
 "cells": [
  {
   "cell_type": "code",
   "execution_count": 11,
   "metadata": {},
   "outputs": [],
   "source": [
    "import pandas as pd\n",
    "from matplotlib import pyplot as plt"
   ]
  },
  {
   "cell_type": "code",
   "execution_count": 112,
   "metadata": {},
   "outputs": [],
   "source": [
    "benefits = pd.read_csv(\"../data/BenefitsCostSharing.csv\")"
   ]
  },
  {
   "cell_type": "code",
   "execution_count": 68,
   "metadata": {},
   "outputs": [
    {
     "name": "stdout",
     "output_type": "stream",
     "text": [
      "missing values \n",
      "BenefitName                  0\n",
      "BusinessYear                 0\n",
      "CoinsInnTier1          1113847\n",
      "CoinsInnTier2          4571587\n",
      "CoinsOutofNet          1113847\n",
      "CopayInnTier1          1113847\n",
      "CopayInnTier2          4571587\n",
      "CopayOutofNet          1113849\n",
      "EHBVarReason           3020737\n",
      "Exclusions             4572247\n",
      "Explanation            4075700\n",
      "ImportDate                   0\n",
      "IsCovered               215980\n",
      "IsEHB                  1817362\n",
      "IsExclFromInnMOOP       983986\n",
      "IsExclFromOonMOOP       982626\n",
      "IsStateMandate         4250463\n",
      "IsSubjToDedTier1       2465877\n",
      "IsSubjToDedTier2       2466054\n",
      "IssuerId                     0\n",
      "IssuerId2                    0\n",
      "LimitQty               4360725\n",
      "LimitUnit              4360539\n",
      "MinimumStay            5031681\n",
      "PlanId                       0\n",
      "QuantLimitOnSvc        3264532\n",
      "RowNumber                    0\n",
      "SourceName                   0\n",
      "StandardComponentId          0\n",
      "StateCode                    0\n",
      "StateCode2                   0\n",
      "VersionNum                   0\n",
      "dtype: int64\n",
      "dataframe index \n",
      "RangeIndex(start=0, stop=5048408, step=1)\n",
      "dataframe types \n",
      "BenefitName             object\n",
      "BusinessYear             int64\n",
      "CoinsInnTier1           object\n",
      "CoinsInnTier2           object\n",
      "CoinsOutofNet           object\n",
      "CopayInnTier1           object\n",
      "CopayInnTier2           object\n",
      "CopayOutofNet           object\n",
      "EHBVarReason            object\n",
      "Exclusions              object\n",
      "Explanation             object\n",
      "ImportDate              object\n",
      "IsCovered               object\n",
      "IsEHB                   object\n",
      "IsExclFromInnMOOP       object\n",
      "IsExclFromOonMOOP       object\n",
      "IsStateMandate          object\n",
      "IsSubjToDedTier1        object\n",
      "IsSubjToDedTier2        object\n",
      "IssuerId                 int64\n",
      "IssuerId2                int64\n",
      "LimitQty               float64\n",
      "LimitUnit               object\n",
      "MinimumStay            float64\n",
      "PlanId                  object\n",
      "QuantLimitOnSvc         object\n",
      "RowNumber                int64\n",
      "SourceName              object\n",
      "StandardComponentId     object\n",
      "StateCode               object\n",
      "StateCode2              object\n",
      "VersionNum               int64\n",
      "dtype: object\n",
      "dataframe shape \n",
      "(5048408, 32)\n",
      "dataframe describe \n",
      "       BusinessYear      IssuerId     IssuerId2       LimitQty   MinimumStay  \\\n",
      "count  5.048408e+06  5.048408e+06  5.048408e+06  687683.000000  16727.000000   \n",
      "mean   2.015127e+03  5.220360e+04  5.220360e+04     142.399374     47.937048   \n",
      "std    7.563664e-01  2.592498e+04  2.592498e+04    1723.372817      5.892297   \n",
      "min    2.014000e+03  1.004600e+04  1.004600e+04       1.000000      5.000000   \n",
      "25%    2.015000e+03  3.253600e+04  3.253600e+04       1.000000     48.000000   \n",
      "50%    2.015000e+03  4.839600e+04  4.839600e+04      20.000000     48.000000   \n",
      "75%    2.016000e+03  7.498000e+04  7.498000e+04      40.000000     48.000000   \n",
      "max    2.016000e+03  9.996900e+04  9.996900e+04   75000.000000     90.000000   \n",
      "\n",
      "          RowNumber    VersionNum  \n",
      "count  5.048408e+06  5.048408e+06  \n",
      "mean   9.839018e+01  7.637094e+00  \n",
      "std    2.177890e+01  3.803627e+00  \n",
      "min    6.100000e+01  1.000000e+00  \n",
      "25%    8.000000e+01  5.000000e+00  \n",
      "50%    9.900000e+01  7.000000e+00  \n",
      "75%    1.170000e+02  9.000000e+00  \n",
      "max    1.560000e+02  2.400000e+01  \n",
      "BenefitName\n",
      "861\n",
      "BusinessYear\n",
      "3\n",
      "CoinsInnTier1\n",
      "115\n",
      "CoinsInnTier2\n",
      "37\n",
      "CoinsOutofNet\n",
      "60\n",
      "CopayInnTier1\n",
      "516\n",
      "CopayInnTier2\n",
      "278\n",
      "CopayOutofNet\n",
      "232\n",
      "EHBVarReason\n",
      "12\n",
      "Exclusions\n",
      "1720\n",
      "Explanation\n",
      "6227\n",
      "ImportDate\n",
      "266\n",
      "IsCovered\n",
      "3\n",
      "IsEHB\n",
      "1\n",
      "IsExclFromInnMOOP\n",
      "5\n",
      "IsExclFromOonMOOP\n",
      "4\n",
      "IsStateMandate\n",
      "1\n",
      "IsSubjToDedTier1\n",
      "5\n",
      "IsSubjToDedTier2\n",
      "4\n",
      "IssuerId\n",
      "910\n",
      "IssuerId2\n",
      "910\n",
      "LimitQty\n",
      "94\n",
      "LimitUnit\n",
      "88\n",
      "MinimumStay\n",
      "3\n",
      "PlanId\n",
      "52394\n",
      "QuantLimitOnSvc\n",
      "5\n",
      "RowNumber\n",
      "96\n",
      "SourceName\n",
      "3\n",
      "StandardComponentId\n",
      "16807\n",
      "StateCode\n",
      "39\n",
      "StateCode2\n",
      "39\n",
      "VersionNum\n",
      "23\n"
     ]
    }
   ],
   "source": [
    "def eda(dataframe):\n",
    "    print \"missing values \\n\", dataframe.isnull().sum()\n",
    "    print \"dataframe index \\n\", dataframe.index\n",
    "    print \"dataframe types \\n\", dataframe.dtypes\n",
    "    print \"dataframe shape \\n\", dataframe.shape\n",
    "    print \"dataframe describe \\n\", dataframe.describe()\n",
    "    for item in dataframe:\n",
    "        print item\n",
    "        print dataframe[item].nunique()\n",
    "\n",
    "eda(benefits)"
   ]
  },
  {
   "cell_type": "code",
   "execution_count": 113,
   "metadata": {},
   "outputs": [
    {
     "data": {
      "text/html": [
       "<div>\n",
       "<style>\n",
       "    .dataframe thead tr:only-child th {\n",
       "        text-align: right;\n",
       "    }\n",
       "\n",
       "    .dataframe thead th {\n",
       "        text-align: left;\n",
       "    }\n",
       "\n",
       "    .dataframe tbody tr th {\n",
       "        vertical-align: top;\n",
       "    }\n",
       "</style>\n",
       "<table border=\"1\" class=\"dataframe\">\n",
       "  <thead>\n",
       "    <tr style=\"text-align: right;\">\n",
       "      <th></th>\n",
       "      <th>BenefitName</th>\n",
       "      <th>BusinessYear</th>\n",
       "      <th>CoinsInnTier1</th>\n",
       "      <th>CoinsInnTier2</th>\n",
       "      <th>CoinsOutofNet</th>\n",
       "      <th>CopayInnTier1</th>\n",
       "      <th>CopayInnTier2</th>\n",
       "      <th>CopayOutofNet</th>\n",
       "      <th>EHBVarReason</th>\n",
       "      <th>Exclusions</th>\n",
       "      <th>...</th>\n",
       "      <th>LimitUnit</th>\n",
       "      <th>MinimumStay</th>\n",
       "      <th>PlanId</th>\n",
       "      <th>QuantLimitOnSvc</th>\n",
       "      <th>RowNumber</th>\n",
       "      <th>SourceName</th>\n",
       "      <th>StandardComponentId</th>\n",
       "      <th>StateCode</th>\n",
       "      <th>StateCode2</th>\n",
       "      <th>VersionNum</th>\n",
       "    </tr>\n",
       "  </thead>\n",
       "  <tbody>\n",
       "    <tr>\n",
       "      <th>0</th>\n",
       "      <td>Routine Dental Services (Adult)</td>\n",
       "      <td>2014</td>\n",
       "      <td>20%</td>\n",
       "      <td>0</td>\n",
       "      <td>20%</td>\n",
       "      <td>No Charge</td>\n",
       "      <td>0</td>\n",
       "      <td>No Charge</td>\n",
       "      <td>Above EHB</td>\n",
       "      <td>0</td>\n",
       "      <td>...</td>\n",
       "      <td>Dollars per Year</td>\n",
       "      <td>0.0</td>\n",
       "      <td>21989AK0010001-00</td>\n",
       "      <td>Yes</td>\n",
       "      <td>68</td>\n",
       "      <td>HIOS</td>\n",
       "      <td>21989AK0010001</td>\n",
       "      <td>AK</td>\n",
       "      <td>AK</td>\n",
       "      <td>6</td>\n",
       "    </tr>\n",
       "    <tr>\n",
       "      <th>1</th>\n",
       "      <td>Dental Check-Up for Children</td>\n",
       "      <td>2014</td>\n",
       "      <td>20%</td>\n",
       "      <td>0</td>\n",
       "      <td>20%</td>\n",
       "      <td>No Charge</td>\n",
       "      <td>0</td>\n",
       "      <td>No Charge</td>\n",
       "      <td>Substantially Equal</td>\n",
       "      <td>0</td>\n",
       "      <td>...</td>\n",
       "      <td>Visit(s) per 6 Months</td>\n",
       "      <td>0.0</td>\n",
       "      <td>21989AK0010001-00</td>\n",
       "      <td>Yes</td>\n",
       "      <td>104</td>\n",
       "      <td>HIOS</td>\n",
       "      <td>21989AK0010001</td>\n",
       "      <td>AK</td>\n",
       "      <td>AK</td>\n",
       "      <td>6</td>\n",
       "    </tr>\n",
       "    <tr>\n",
       "      <th>2</th>\n",
       "      <td>Basic Dental Care - Child</td>\n",
       "      <td>2014</td>\n",
       "      <td>40%</td>\n",
       "      <td>0</td>\n",
       "      <td>40%</td>\n",
       "      <td>No Charge</td>\n",
       "      <td>0</td>\n",
       "      <td>No Charge</td>\n",
       "      <td>Substantially Equal</td>\n",
       "      <td>0</td>\n",
       "      <td>...</td>\n",
       "      <td>0</td>\n",
       "      <td>0.0</td>\n",
       "      <td>21989AK0010001-00</td>\n",
       "      <td>0</td>\n",
       "      <td>110</td>\n",
       "      <td>HIOS</td>\n",
       "      <td>21989AK0010001</td>\n",
       "      <td>AK</td>\n",
       "      <td>AK</td>\n",
       "      <td>6</td>\n",
       "    </tr>\n",
       "    <tr>\n",
       "      <th>3</th>\n",
       "      <td>Orthodontia - Child</td>\n",
       "      <td>2014</td>\n",
       "      <td>50%</td>\n",
       "      <td>0</td>\n",
       "      <td>50%</td>\n",
       "      <td>No Charge</td>\n",
       "      <td>0</td>\n",
       "      <td>No Charge</td>\n",
       "      <td>Additional EHB Benefit</td>\n",
       "      <td>0</td>\n",
       "      <td>...</td>\n",
       "      <td>0</td>\n",
       "      <td>0.0</td>\n",
       "      <td>21989AK0010001-00</td>\n",
       "      <td>0</td>\n",
       "      <td>111</td>\n",
       "      <td>HIOS</td>\n",
       "      <td>21989AK0010001</td>\n",
       "      <td>AK</td>\n",
       "      <td>AK</td>\n",
       "      <td>6</td>\n",
       "    </tr>\n",
       "    <tr>\n",
       "      <th>4</th>\n",
       "      <td>Major Dental Care - Child</td>\n",
       "      <td>2014</td>\n",
       "      <td>50%</td>\n",
       "      <td>0</td>\n",
       "      <td>50%</td>\n",
       "      <td>No Charge</td>\n",
       "      <td>0</td>\n",
       "      <td>No Charge</td>\n",
       "      <td>Substantially Equal</td>\n",
       "      <td>0</td>\n",
       "      <td>...</td>\n",
       "      <td>0</td>\n",
       "      <td>0.0</td>\n",
       "      <td>21989AK0010001-00</td>\n",
       "      <td>0</td>\n",
       "      <td>112</td>\n",
       "      <td>HIOS</td>\n",
       "      <td>21989AK0010001</td>\n",
       "      <td>AK</td>\n",
       "      <td>AK</td>\n",
       "      <td>6</td>\n",
       "    </tr>\n",
       "  </tbody>\n",
       "</table>\n",
       "<p>5 rows × 32 columns</p>\n",
       "</div>"
      ],
      "text/plain": [
       "                       BenefitName  BusinessYear CoinsInnTier1 CoinsInnTier2  \\\n",
       "0  Routine Dental Services (Adult)          2014           20%             0   \n",
       "1     Dental Check-Up for Children          2014           20%             0   \n",
       "2        Basic Dental Care - Child          2014           40%             0   \n",
       "3              Orthodontia - Child          2014           50%             0   \n",
       "4        Major Dental Care - Child          2014           50%             0   \n",
       "\n",
       "  CoinsOutofNet CopayInnTier1 CopayInnTier2 CopayOutofNet  \\\n",
       "0           20%     No Charge             0     No Charge   \n",
       "1           20%     No Charge             0     No Charge   \n",
       "2           40%     No Charge             0     No Charge   \n",
       "3           50%     No Charge             0     No Charge   \n",
       "4           50%     No Charge             0     No Charge   \n",
       "\n",
       "             EHBVarReason Exclusions     ...                  LimitUnit  \\\n",
       "0               Above EHB          0     ...           Dollars per Year   \n",
       "1     Substantially Equal          0     ...      Visit(s) per 6 Months   \n",
       "2     Substantially Equal          0     ...                          0   \n",
       "3  Additional EHB Benefit          0     ...                          0   \n",
       "4     Substantially Equal          0     ...                          0   \n",
       "\n",
       "  MinimumStay             PlanId QuantLimitOnSvc RowNumber SourceName  \\\n",
       "0         0.0  21989AK0010001-00             Yes        68       HIOS   \n",
       "1         0.0  21989AK0010001-00             Yes       104       HIOS   \n",
       "2         0.0  21989AK0010001-00               0       110       HIOS   \n",
       "3         0.0  21989AK0010001-00               0       111       HIOS   \n",
       "4         0.0  21989AK0010001-00               0       112       HIOS   \n",
       "\n",
       "  StandardComponentId StateCode StateCode2  VersionNum  \n",
       "0      21989AK0010001        AK         AK           6  \n",
       "1      21989AK0010001        AK         AK           6  \n",
       "2      21989AK0010001        AK         AK           6  \n",
       "3      21989AK0010001        AK         AK           6  \n",
       "4      21989AK0010001        AK         AK           6  \n",
       "\n",
       "[5 rows x 32 columns]"
      ]
     },
     "execution_count": 113,
     "metadata": {},
     "output_type": "execute_result"
    }
   ],
   "source": [
    "benefits.fillna(0, inplace = True)\n",
    "benefits.head()"
   ]
  },
  {
   "cell_type": "code",
   "execution_count": 114,
   "metadata": {},
   "outputs": [
    {
     "ename": "TypeError",
     "evalue": "cannot convert the series to <type 'float'>",
     "output_type": "error",
     "traceback": [
      "\u001b[0;31m---------------------------------------------------------------------------\u001b[0m",
      "\u001b[0;31mTypeError\u001b[0m                                 Traceback (most recent call last)",
      "\u001b[0;32m<ipython-input-114-0e13d8cf912b>\u001b[0m in \u001b[0;36m<module>\u001b[0;34m()\u001b[0m\n\u001b[0;32m----> 1\u001b[0;31m \u001b[0mbenefits\u001b[0m\u001b[0;34m[\u001b[0m\u001b[0;34m'CoIn'\u001b[0m\u001b[0;34m]\u001b[0m \u001b[0;34m=\u001b[0m \u001b[0mfloat\u001b[0m\u001b[0;34m(\u001b[0m\u001b[0mbenefits\u001b[0m\u001b[0;34m.\u001b[0m\u001b[0mCoinsInnTier1\u001b[0m\u001b[0;34m.\u001b[0m\u001b[0mstr\u001b[0m\u001b[0;34m.\u001b[0m\u001b[0mfindall\u001b[0m\u001b[0;34m(\u001b[0m\u001b[0;34mr'\\d+'\u001b[0m\u001b[0;34m)\u001b[0m\u001b[0;34m)\u001b[0m\u001b[0;34m\u001b[0m\u001b[0m\n\u001b[0m",
      "\u001b[0;32m/Users/baurjansafi/anaconda/lib/python2.7/site-packages/pandas/core/series.pyc\u001b[0m in \u001b[0;36mwrapper\u001b[0;34m(self)\u001b[0m\n\u001b[1;32m     95\u001b[0m             \u001b[0;32mreturn\u001b[0m \u001b[0mconverter\u001b[0m\u001b[0;34m(\u001b[0m\u001b[0mself\u001b[0m\u001b[0;34m.\u001b[0m\u001b[0miloc\u001b[0m\u001b[0;34m[\u001b[0m\u001b[0;36m0\u001b[0m\u001b[0;34m]\u001b[0m\u001b[0;34m)\u001b[0m\u001b[0;34m\u001b[0m\u001b[0m\n\u001b[1;32m     96\u001b[0m         raise TypeError(\"cannot convert the series to \"\n\u001b[0;32m---> 97\u001b[0;31m                         \"{0}\".format(str(converter)))\n\u001b[0m\u001b[1;32m     98\u001b[0m \u001b[0;34m\u001b[0m\u001b[0m\n\u001b[1;32m     99\u001b[0m     \u001b[0;32mreturn\u001b[0m \u001b[0mwrapper\u001b[0m\u001b[0;34m\u001b[0m\u001b[0m\n",
      "\u001b[0;31mTypeError\u001b[0m: cannot convert the series to <type 'float'>"
     ]
    }
   ],
   "source": [
    "benefits['CoIn'] = float(benefits.CoinsInnTier1.str.findall(r'\\d+'))"
   ]
  },
  {
   "cell_type": "code",
   "execution_count": 126,
   "metadata": {},
   "outputs": [
    {
     "data": {
      "text/plain": [
       "IssuerId\n",
       "16049     6636\n",
       "28214      200\n",
       "29416      612\n",
       "30494      108\n",
       "30613    10182\n",
       "32753    22260\n",
       "32904      216\n",
       "34762    16650\n",
       "35853      108\n",
       "39371      117\n",
       "40807      324\n",
       "44240    17356\n",
       "44527    12493\n",
       "48616       54\n",
       "48786      238\n",
       "53204       90\n",
       "56603       36\n",
       "59976      190\n",
       "68265      144\n",
       "68396      108\n",
       "71691       45\n",
       "74483     6607\n",
       "81313      144\n",
       "82905      108\n",
       "86182       54\n",
       "86779       36\n",
       "94322       36\n",
       "Name: IssuerId, dtype: int64"
      ]
     },
     "execution_count": 126,
     "metadata": {},
     "output_type": "execute_result"
    }
   ],
   "source": [
    "benefits.columns\n",
    "benefits.groupby(['StateCode','IssuerId'])['IssuerId'].count().xs('MO',axis = 0)"
   ]
  },
  {
   "cell_type": "code",
   "execution_count": 193,
   "metadata": {},
   "outputs": [],
   "source": [
    "z = pd.DataFrame(benefits.groupby(['StateCode','IssuerId'])['IssuerId'].count())\n",
    "# z.to_csv('../data/groupbystateissuerid.csv')"
   ]
  },
  {
   "cell_type": "code",
   "execution_count": 194,
   "metadata": {},
   "outputs": [],
   "source": [
    "benefits.groupby(['StateCode','IssuerId'])['IssuerId'].count().to_frame(name = 'z').reset_index(inplace = True)\n",
    "z.reset_index(level=0, inplace=True)\n"
   ]
  },
  {
   "cell_type": "code",
   "execution_count": 195,
   "metadata": {},
   "outputs": [
    {
     "data": {
      "text/html": [
       "<div>\n",
       "<style>\n",
       "    .dataframe thead tr:only-child th {\n",
       "        text-align: right;\n",
       "    }\n",
       "\n",
       "    .dataframe thead th {\n",
       "        text-align: left;\n",
       "    }\n",
       "\n",
       "    .dataframe tbody tr th {\n",
       "        vertical-align: top;\n",
       "    }\n",
       "</style>\n",
       "<table border=\"1\" class=\"dataframe\">\n",
       "  <thead>\n",
       "    <tr style=\"text-align: right;\">\n",
       "      <th></th>\n",
       "      <th>StateCode</th>\n",
       "      <th>IssuerId</th>\n",
       "    </tr>\n",
       "    <tr>\n",
       "      <th>IssuerId</th>\n",
       "      <th></th>\n",
       "      <th></th>\n",
       "    </tr>\n",
       "  </thead>\n",
       "  <tbody>\n",
       "    <tr>\n",
       "      <th>21989</th>\n",
       "      <td>AK</td>\n",
       "      <td>207</td>\n",
       "    </tr>\n",
       "    <tr>\n",
       "      <th>38344</th>\n",
       "      <td>AK</td>\n",
       "      <td>16546</td>\n",
       "    </tr>\n",
       "    <tr>\n",
       "      <th>38536</th>\n",
       "      <td>AK</td>\n",
       "      <td>70</td>\n",
       "    </tr>\n",
       "    <tr>\n",
       "      <th>42507</th>\n",
       "      <td>AK</td>\n",
       "      <td>112</td>\n",
       "    </tr>\n",
       "    <tr>\n",
       "      <th>45858</th>\n",
       "      <td>AK</td>\n",
       "      <td>108</td>\n",
       "    </tr>\n",
       "  </tbody>\n",
       "</table>\n",
       "</div>"
      ],
      "text/plain": [
       "         StateCode  IssuerId\n",
       "IssuerId                    \n",
       "21989           AK       207\n",
       "38344           AK     16546\n",
       "38536           AK        70\n",
       "42507           AK       112\n",
       "45858           AK       108"
      ]
     },
     "execution_count": 195,
     "metadata": {},
     "output_type": "execute_result"
    }
   ],
   "source": [
    "z.head()"
   ]
  },
  {
   "cell_type": "code",
   "execution_count": 205,
   "metadata": {},
   "outputs": [
    {
     "data": {
      "text/html": [
       "<div>\n",
       "<style>\n",
       "    .dataframe thead tr:only-child th {\n",
       "        text-align: right;\n",
       "    }\n",
       "\n",
       "    .dataframe thead th {\n",
       "        text-align: left;\n",
       "    }\n",
       "\n",
       "    .dataframe tbody tr th {\n",
       "        vertical-align: top;\n",
       "    }\n",
       "</style>\n",
       "<table border=\"1\" class=\"dataframe\">\n",
       "  <thead>\n",
       "    <tr style=\"text-align: right;\">\n",
       "      <th></th>\n",
       "      <th>StateCode</th>\n",
       "      <th>IssuerId</th>\n",
       "    </tr>\n",
       "  </thead>\n",
       "  <tbody>\n",
       "    <tr>\n",
       "      <th>0</th>\n",
       "      <td>AK</td>\n",
       "      <td>41320</td>\n",
       "    </tr>\n",
       "    <tr>\n",
       "      <th>1</th>\n",
       "      <td>AL</td>\n",
       "      <td>28417</td>\n",
       "    </tr>\n",
       "    <tr>\n",
       "      <th>2</th>\n",
       "      <td>AR</td>\n",
       "      <td>68064</td>\n",
       "    </tr>\n",
       "    <tr>\n",
       "      <th>3</th>\n",
       "      <td>AZ</td>\n",
       "      <td>221612</td>\n",
       "    </tr>\n",
       "    <tr>\n",
       "      <th>4</th>\n",
       "      <td>DE</td>\n",
       "      <td>31370</td>\n",
       "    </tr>\n",
       "  </tbody>\n",
       "</table>\n",
       "</div>"
      ],
      "text/plain": [
       "  StateCode  IssuerId\n",
       "0        AK     41320\n",
       "1        AL     28417\n",
       "2        AR     68064\n",
       "3        AZ    221612\n",
       "4        DE     31370"
      ]
     },
     "execution_count": 205,
     "metadata": {},
     "output_type": "execute_result"
    }
   ],
   "source": [
    "z_1 = pd.DataFrame(benefits.groupby(['StateCode'])['IssuerId'].count())\n",
    "\n",
    "z_1.reset_index(inplace=True)\n",
    "z_1.head()"
   ]
  },
  {
   "cell_type": "code",
   "execution_count": 206,
   "metadata": {},
   "outputs": [
    {
     "data": {
      "text/plain": [
       "pandas.core.frame.DataFrame"
      ]
     },
     "execution_count": 206,
     "metadata": {},
     "output_type": "execute_result"
    }
   ],
   "source": [
    "type(z_1)"
   ]
  },
  {
   "cell_type": "code",
   "execution_count": 209,
   "metadata": {},
   "outputs": [],
   "source": [
    "z_concat = z.merge(z_1, how = 'outer', left_on='StateCode', right_on='StateCode')"
   ]
  },
  {
   "cell_type": "code",
   "execution_count": 211,
   "metadata": {},
   "outputs": [
    {
     "data": {
      "text/html": [
       "<div>\n",
       "<style>\n",
       "    .dataframe thead tr:only-child th {\n",
       "        text-align: right;\n",
       "    }\n",
       "\n",
       "    .dataframe thead th {\n",
       "        text-align: left;\n",
       "    }\n",
       "\n",
       "    .dataframe tbody tr th {\n",
       "        vertical-align: top;\n",
       "    }\n",
       "</style>\n",
       "<table border=\"1\" class=\"dataframe\">\n",
       "  <thead>\n",
       "    <tr style=\"text-align: right;\">\n",
       "      <th></th>\n",
       "      <th>StateCode</th>\n",
       "      <th>IssuerId_x</th>\n",
       "      <th>IssuerId_y</th>\n",
       "      <th>Share</th>\n",
       "    </tr>\n",
       "  </thead>\n",
       "  <tbody>\n",
       "    <tr>\n",
       "      <th>0</th>\n",
       "      <td>AK</td>\n",
       "      <td>207</td>\n",
       "      <td>41320</td>\n",
       "      <td>0.005010</td>\n",
       "    </tr>\n",
       "    <tr>\n",
       "      <th>1</th>\n",
       "      <td>AK</td>\n",
       "      <td>16546</td>\n",
       "      <td>41320</td>\n",
       "      <td>0.400436</td>\n",
       "    </tr>\n",
       "    <tr>\n",
       "      <th>2</th>\n",
       "      <td>AK</td>\n",
       "      <td>70</td>\n",
       "      <td>41320</td>\n",
       "      <td>0.001694</td>\n",
       "    </tr>\n",
       "    <tr>\n",
       "      <th>3</th>\n",
       "      <td>AK</td>\n",
       "      <td>112</td>\n",
       "      <td>41320</td>\n",
       "      <td>0.002711</td>\n",
       "    </tr>\n",
       "    <tr>\n",
       "      <th>4</th>\n",
       "      <td>AK</td>\n",
       "      <td>108</td>\n",
       "      <td>41320</td>\n",
       "      <td>0.002614</td>\n",
       "    </tr>\n",
       "  </tbody>\n",
       "</table>\n",
       "</div>"
      ],
      "text/plain": [
       "  StateCode  IssuerId_x  IssuerId_y     Share\n",
       "0        AK         207       41320  0.005010\n",
       "1        AK       16546       41320  0.400436\n",
       "2        AK          70       41320  0.001694\n",
       "3        AK         112       41320  0.002711\n",
       "4        AK         108       41320  0.002614"
      ]
     },
     "execution_count": 211,
     "metadata": {},
     "output_type": "execute_result"
    }
   ],
   "source": [
    "z_concat['Share'] = z_concat.IssuerId_x/z_concat.IssuerId_y\n",
    "z_concat.head()"
   ]
  },
  {
   "cell_type": "code",
   "execution_count": 242,
   "metadata": {},
   "outputs": [
    {
     "data": {
      "text/plain": [
       "StateCode\n",
       "AK    2\n",
       "AL    3\n",
       "AR    4\n",
       "AZ    3\n",
       "DE    3\n",
       "Name: Share, dtype: int64"
      ]
     },
     "execution_count": 242,
     "metadata": {},
     "output_type": "execute_result"
    }
   ],
   "source": [
    "a = z_concat[z_concat.Share>.10].groupby('StateCode').count()\n",
    "a.to_csv('../data/numberofinscons.csv')\n",
    "a.Share.head()"
   ]
  },
  {
   "cell_type": "code",
   "execution_count": 243,
   "metadata": {},
   "outputs": [
    {
     "data": {
      "text/plain": [
       "StateCode\n",
       "AK    631.788031\n",
       "AL    250.278098\n",
       "AR    212.122069\n",
       "AZ    352.059498\n",
       "DE    359.123401\n",
       "Name: IndividualRate, dtype: float64"
      ]
     },
     "execution_count": 243,
     "metadata": {},
     "output_type": "execute_result"
    }
   ],
   "source": [
    "b = rates_1.IndividualRate.groupby(rates.StateCode).mean()\n",
    "b.head()"
   ]
  },
  {
   "cell_type": "code",
   "execution_count": 244,
   "metadata": {},
   "outputs": [
    {
     "data": {
      "text/html": [
       "<div>\n",
       "<style>\n",
       "    .dataframe thead tr:only-child th {\n",
       "        text-align: right;\n",
       "    }\n",
       "\n",
       "    .dataframe thead th {\n",
       "        text-align: left;\n",
       "    }\n",
       "\n",
       "    .dataframe tbody tr th {\n",
       "        vertical-align: top;\n",
       "    }\n",
       "</style>\n",
       "<table border=\"1\" class=\"dataframe\">\n",
       "  <thead>\n",
       "    <tr style=\"text-align: right;\">\n",
       "      <th></th>\n",
       "      <th>Share</th>\n",
       "      <th>IndividualRate</th>\n",
       "    </tr>\n",
       "    <tr>\n",
       "      <th>StateCode</th>\n",
       "      <th></th>\n",
       "      <th></th>\n",
       "    </tr>\n",
       "  </thead>\n",
       "  <tbody>\n",
       "    <tr>\n",
       "      <th>AK</th>\n",
       "      <td>2</td>\n",
       "      <td>631.788031</td>\n",
       "    </tr>\n",
       "    <tr>\n",
       "      <th>AL</th>\n",
       "      <td>3</td>\n",
       "      <td>250.278098</td>\n",
       "    </tr>\n",
       "    <tr>\n",
       "      <th>AR</th>\n",
       "      <td>4</td>\n",
       "      <td>212.122069</td>\n",
       "    </tr>\n",
       "    <tr>\n",
       "      <th>AZ</th>\n",
       "      <td>3</td>\n",
       "      <td>352.059498</td>\n",
       "    </tr>\n",
       "    <tr>\n",
       "      <th>DE</th>\n",
       "      <td>3</td>\n",
       "      <td>359.123401</td>\n",
       "    </tr>\n",
       "  </tbody>\n",
       "</table>\n",
       "</div>"
      ],
      "text/plain": [
       "           Share  IndividualRate\n",
       "StateCode                       \n",
       "AK             2      631.788031\n",
       "AL             3      250.278098\n",
       "AR             4      212.122069\n",
       "AZ             3      352.059498\n",
       "DE             3      359.123401"
      ]
     },
     "execution_count": 244,
     "metadata": {},
     "output_type": "execute_result"
    }
   ],
   "source": [
    "c = pd.concat([a.Share,b], axis = 1)\n",
    "c.head()"
   ]
  },
  {
   "cell_type": "code",
   "execution_count": null,
   "metadata": {},
   "outputs": [],
   "source": []
  },
  {
   "cell_type": "code",
   "execution_count": 271,
   "metadata": {},
   "outputs": [
    {
     "data": {
      "image/png": "[encoded data removed]",
      "text/plain": [
       "<matplotlib.figure.Figure at 0x12ddb7610>"
      ]
     },
     "metadata": {},
     "output_type": "display_data"
    }
   ],
   "source": [
    "plt.figure(figsize = (12,8))\n",
    "plt.scatter(c.Share, c.IndividualRate, color = 'green')\n",
    "_ = plt.title(\"Number of Major Insurers per State vs Individual Premium \")\n",
    "plt.show()"
   ]
  },
  {
   "cell_type": "code",
   "execution_count": 106,
   "metadata": {},
   "outputs": [],
   "source": [
    "# benefits.fillna(0, inplace = True)"
   ]
  },
  {
   "cell_type": "code",
   "execution_count": 270,
   "metadata": {},
   "outputs": [
    {
     "data": {
      "text/plain": [
       "(5048408, 32)"
      ]
     },
     "execution_count": 270,
     "metadata": {},
     "output_type": "execute_result"
    }
   ],
   "source": [
    "benefits.shape"
   ]
  },
  {
   "cell_type": "code",
   "execution_count": 269,
   "metadata": {},
   "outputs": [
    {
     "data": {
      "text/plain": [
       "4952493L"
      ]
     },
     "execution_count": 269,
     "metadata": {},
     "output_type": "execute_result"
    }
   ],
   "source": [
    "benefits.BenefitName.value_counts(sort=True)[:100].sum()"
   ]
  },
  {
   "cell_type": "code",
   "execution_count": 266,
   "metadata": {},
   "outputs": [],
   "source": [
    "bens.to_csv('../data/bens100.csv')"
   ]
  },
  {
   "cell_type": "code",
   "execution_count": null,
   "metadata": {},
   "outputs": [],
   "source": []
  },
  {
   "cell_type": "code",
   "execution_count": 261,
   "metadata": {},
   "outputs": [
    {
     "data": {
      "image/png": "[encoded data removed]",
      "text/plain": [
       "<matplotlib.figure.Figure at 0x11982c790>"
      ]
     },
     "metadata": {},
     "output_type": "display_data"
    }
   ],
   "source": [
    "benefits.BenefitName.value_counts().plot(figsize = (16,10))\n",
    "plt.xticks(rotation=45, fontsize = 14)\n",
    "plt.title(\"Frequency of Medical Procedures covered by Insurance\")\n",
    "plt.show()"
   ]
  },
  {
   "cell_type": "code",
   "execution_count": 260,
   "metadata": {},
   "outputs": [
    {
     "data": {
      "text/plain": [
       "Orthodontia - Adult                                77377\n",
       "Basic Dental Care - Adult                          77353\n",
       "Major Dental Care - Child                          77353\n",
       "Accidental Dental                                  77353\n",
       "Dental Check-Up for Children                       77353\n",
       "Basic Dental Care - Child                          77353\n",
       "Routine Dental Services (Adult)                    77353\n",
       "Major Dental Care - Adult                          77353\n",
       "Orthodontia - Child                                77345\n",
       "Treatment for Temporomandibular Joint Disorders    65724\n",
       "Name: BenefitName, dtype: int64"
      ]
     },
     "execution_count": 260,
     "metadata": {},
     "output_type": "execute_result"
    }
   ],
   "source": [
    "benefits.BenefitName.value_counts().head(10)"
   ]
  },
  {
   "cell_type": "code",
   "execution_count": null,
   "metadata": {},
   "outputs": [],
   "source": []
  },
  {
   "cell_type": "code",
   "execution_count": 18,
   "metadata": {},
   "outputs": [
    {
     "data": {
      "text/plain": [
       "861"
      ]
     },
     "execution_count": 18,
     "metadata": {},
     "output_type": "execute_result"
    }
   ],
   "source": [
    "len(benefits.BenefitName.unique())"
   ]
  },
  {
   "cell_type": "code",
   "execution_count": 19,
   "metadata": {},
   "outputs": [
    {
     "data": {
      "text/plain": [
       "Orthodontia - Adult                                                                                         77377\n",
       "Basic Dental Care - Adult                                                                                   77353\n",
       "Major Dental Care - Child                                                                                   77353\n",
       "Accidental Dental                                                                                           77353\n",
       "Dental Check-Up for Children                                                                                77353\n",
       "Basic Dental Care - Child                                                                                   77353\n",
       "Routine Dental Services (Adult)                                                                             77353\n",
       "Major Dental Care - Adult                                                                                   77353\n",
       "Orthodontia - Child                                                                                         77345\n",
       "Treatment for Temporomandibular Joint Disorders                                                             65724\n",
       "Prenatal and Postnatal Care                                                                                 65704\n",
       "Preferred Brand Drugs                                                                                       65704\n",
       "Bariatric Surgery                                                                                           65704\n",
       "Abortion for Which Public Funding is Prohibited                                                             65704\n",
       "Substance Abuse Disorder Outpatient Services                                                                65704\n",
       "Long-Term/Custodial Nursing Home Care                                                                       65704\n",
       "Substance Abuse Disorder Inpatient Services                                                                 65704\n",
       "Routine Eye Exam for Children                                                                               65704\n",
       "Diabetes Education                                                                                          65704\n",
       "Delivery and All Inpatient Services for Maternity Care                                                      65704\n",
       "Routine Foot Care                                                                                           65704\n",
       "Infusion Therapy                                                                                            65704\n",
       "Chiropractic Care                                                                                           65704\n",
       "Eye Glasses for Children                                                                                    65704\n",
       "Prosthetic Devices                                                                                          65704\n",
       "Urgent Care Centers or Facilities                                                                           65704\n",
       "Home Health Care Services                                                                                   65704\n",
       "Reconstructive Surgery                                                                                      65704\n",
       "Routine Eye Exam (Adult)                                                                                    65704\n",
       "Hospice Services                                                                                            65704\n",
       "                                                                                                            ...  \n",
       "Immediate Dentiures                                                                                             2\n",
       "Habilitative Speech Therapy (Non-Autism Related                                                                 2\n",
       "Non-Medically Necessary Orthondontia - Child                                                                    2\n",
       "Post and Core Build -Up                                                                                         2\n",
       "Posterior Composite Fillings - Adults                                                                           2\n",
       "Peridontal Maintenance                                                                                          2\n",
       "Cardiac &$135:$135Pulmonary Rehabilitation                                                                      2\n",
       "Non-medically necessary orthodontia                                                                             2\n",
       "Coimplex Oral Surgery                                                                                           2\n",
       "Orthodontia for Cleft Palate or Cleft Lip only - Child                                                          2\n",
       "Post and Core Build -up                                                                                         2\n",
       "Non-Medically necessary Orthodontia                                                                             2\n",
       "Routine Exams and X-rays - Child                                                                                2\n",
       "Bloos and Blood Services                                                                                        2\n",
       "Dental Anethesia                                                                                                2\n",
       "Habilitation Services - PT/OT/ST and ABA (combined) for Autism Spectrum Disorder - through 18 yrs of age        2\n",
       "Pulmonary Rehabilatative Services                                                                               2\n",
       "Imaging (CT, PET Scans, MRIs) Center/ Office                                                                    2\n",
       "Vision Hardware for Children > $300                                                                             2\n",
       "Accidental Dental-Adult                                                                                         2\n",
       "Prophylaxis (cleanings) - Child                                                                                 2\n",
       "Non-Medically Necessary Orthodontia- Child                                                                      2\n",
       "Removal of Fxed Space Maintainers                                                                               2\n",
       "Intial Placement of Bridges and Dentures                                                                        2\n",
       "Tisssue Conditioning                                                                                            2\n",
       "Implant Adult                                                                                                   1\n",
       "Prefab Resin Crown                                                                                              1\n",
       "Vital pulpotomy                                                                                                 1\n",
       "Posterior Composites - Child                                                                                    1\n",
       "root Canal Therapy and Retreatment                                                                              1\n",
       "Name: BenefitName, Length: 861, dtype: int64"
      ]
     },
     "execution_count": 19,
     "metadata": {},
     "output_type": "execute_result"
    }
   ],
   "source": [
    "benefits.BenefitName.value_counts()"
   ]
  },
  {
   "cell_type": "code",
   "execution_count": 21,
   "metadata": {},
   "outputs": [],
   "source": [
    "rates = pd.read_csv('../data/Rate.csv')"
   ]
  },
  {
   "cell_type": "code",
   "execution_count": 272,
   "metadata": {},
   "outputs": [
    {
     "data": {
      "text/plain": [
       "(12694445, 24)"
      ]
     },
     "execution_count": 272,
     "metadata": {},
     "output_type": "execute_result"
    }
   ],
   "source": [
    "rates.shape"
   ]
  },
  {
   "cell_type": "code",
   "execution_count": 22,
   "metadata": {},
   "outputs": [
    {
     "data": {
      "text/html": [
       "<div>\n",
       "<style>\n",
       "    .dataframe thead tr:only-child th {\n",
       "        text-align: right;\n",
       "    }\n",
       "\n",
       "    .dataframe thead th {\n",
       "        text-align: left;\n",
       "    }\n",
       "\n",
       "    .dataframe tbody tr th {\n",
       "        vertical-align: top;\n",
       "    }\n",
       "</style>\n",
       "<table border=\"1\" class=\"dataframe\">\n",
       "  <thead>\n",
       "    <tr style=\"text-align: right;\">\n",
       "      <th></th>\n",
       "      <th>BusinessYear</th>\n",
       "      <th>StateCode</th>\n",
       "      <th>IssuerId</th>\n",
       "      <th>SourceName</th>\n",
       "      <th>VersionNum</th>\n",
       "      <th>ImportDate</th>\n",
       "      <th>IssuerId2</th>\n",
       "      <th>FederalTIN</th>\n",
       "      <th>RateEffectiveDate</th>\n",
       "      <th>RateExpirationDate</th>\n",
       "      <th>...</th>\n",
       "      <th>IndividualRate</th>\n",
       "      <th>IndividualTobaccoRate</th>\n",
       "      <th>Couple</th>\n",
       "      <th>PrimarySubscriberAndOneDependent</th>\n",
       "      <th>PrimarySubscriberAndTwoDependents</th>\n",
       "      <th>PrimarySubscriberAndThreeOrMoreDependents</th>\n",
       "      <th>CoupleAndOneDependent</th>\n",
       "      <th>CoupleAndTwoDependents</th>\n",
       "      <th>CoupleAndThreeOrMoreDependents</th>\n",
       "      <th>RowNumber</th>\n",
       "    </tr>\n",
       "  </thead>\n",
       "  <tbody>\n",
       "    <tr>\n",
       "      <th>0</th>\n",
       "      <td>2014</td>\n",
       "      <td>AK</td>\n",
       "      <td>21989</td>\n",
       "      <td>HIOS</td>\n",
       "      <td>6</td>\n",
       "      <td>2014-03-19 07:06:49</td>\n",
       "      <td>21989</td>\n",
       "      <td>93-0438772</td>\n",
       "      <td>2014-01-01</td>\n",
       "      <td>2014-12-31</td>\n",
       "      <td>...</td>\n",
       "      <td>29.00</td>\n",
       "      <td>NaN</td>\n",
       "      <td>NaN</td>\n",
       "      <td>NaN</td>\n",
       "      <td>NaN</td>\n",
       "      <td>NaN</td>\n",
       "      <td>NaN</td>\n",
       "      <td>NaN</td>\n",
       "      <td>NaN</td>\n",
       "      <td>14</td>\n",
       "    </tr>\n",
       "    <tr>\n",
       "      <th>1</th>\n",
       "      <td>2014</td>\n",
       "      <td>AK</td>\n",
       "      <td>21989</td>\n",
       "      <td>HIOS</td>\n",
       "      <td>6</td>\n",
       "      <td>2014-03-19 07:06:49</td>\n",
       "      <td>21989</td>\n",
       "      <td>93-0438772</td>\n",
       "      <td>2014-01-01</td>\n",
       "      <td>2014-12-31</td>\n",
       "      <td>...</td>\n",
       "      <td>36.95</td>\n",
       "      <td>NaN</td>\n",
       "      <td>73.9</td>\n",
       "      <td>107.61</td>\n",
       "      <td>107.61</td>\n",
       "      <td>107.61</td>\n",
       "      <td>144.56</td>\n",
       "      <td>144.56</td>\n",
       "      <td>144.56</td>\n",
       "      <td>14</td>\n",
       "    </tr>\n",
       "    <tr>\n",
       "      <th>2</th>\n",
       "      <td>2014</td>\n",
       "      <td>AK</td>\n",
       "      <td>21989</td>\n",
       "      <td>HIOS</td>\n",
       "      <td>6</td>\n",
       "      <td>2014-03-19 07:06:49</td>\n",
       "      <td>21989</td>\n",
       "      <td>93-0438772</td>\n",
       "      <td>2014-01-01</td>\n",
       "      <td>2014-12-31</td>\n",
       "      <td>...</td>\n",
       "      <td>36.95</td>\n",
       "      <td>NaN</td>\n",
       "      <td>73.9</td>\n",
       "      <td>107.61</td>\n",
       "      <td>107.61</td>\n",
       "      <td>107.61</td>\n",
       "      <td>144.56</td>\n",
       "      <td>144.56</td>\n",
       "      <td>144.56</td>\n",
       "      <td>15</td>\n",
       "    </tr>\n",
       "    <tr>\n",
       "      <th>3</th>\n",
       "      <td>2014</td>\n",
       "      <td>AK</td>\n",
       "      <td>21989</td>\n",
       "      <td>HIOS</td>\n",
       "      <td>6</td>\n",
       "      <td>2014-03-19 07:06:49</td>\n",
       "      <td>21989</td>\n",
       "      <td>93-0438772</td>\n",
       "      <td>2014-01-01</td>\n",
       "      <td>2014-12-31</td>\n",
       "      <td>...</td>\n",
       "      <td>32.00</td>\n",
       "      <td>NaN</td>\n",
       "      <td>NaN</td>\n",
       "      <td>NaN</td>\n",
       "      <td>NaN</td>\n",
       "      <td>NaN</td>\n",
       "      <td>NaN</td>\n",
       "      <td>NaN</td>\n",
       "      <td>NaN</td>\n",
       "      <td>15</td>\n",
       "    </tr>\n",
       "    <tr>\n",
       "      <th>4</th>\n",
       "      <td>2014</td>\n",
       "      <td>AK</td>\n",
       "      <td>21989</td>\n",
       "      <td>HIOS</td>\n",
       "      <td>6</td>\n",
       "      <td>2014-03-19 07:06:49</td>\n",
       "      <td>21989</td>\n",
       "      <td>93-0438772</td>\n",
       "      <td>2014-01-01</td>\n",
       "      <td>2014-12-31</td>\n",
       "      <td>...</td>\n",
       "      <td>32.00</td>\n",
       "      <td>NaN</td>\n",
       "      <td>NaN</td>\n",
       "      <td>NaN</td>\n",
       "      <td>NaN</td>\n",
       "      <td>NaN</td>\n",
       "      <td>NaN</td>\n",
       "      <td>NaN</td>\n",
       "      <td>NaN</td>\n",
       "      <td>16</td>\n",
       "    </tr>\n",
       "  </tbody>\n",
       "</table>\n",
       "<p>5 rows × 24 columns</p>\n",
       "</div>"
      ],
      "text/plain": [
       "   BusinessYear StateCode  IssuerId SourceName  VersionNum  \\\n",
       "0          2014        AK     21989       HIOS           6   \n",
       "1          2014        AK     21989       HIOS           6   \n",
       "2          2014        AK     21989       HIOS           6   \n",
       "3          2014        AK     21989       HIOS           6   \n",
       "4          2014        AK     21989       HIOS           6   \n",
       "\n",
       "            ImportDate  IssuerId2  FederalTIN RateEffectiveDate  \\\n",
       "0  2014-03-19 07:06:49      21989  93-0438772        2014-01-01   \n",
       "1  2014-03-19 07:06:49      21989  93-0438772        2014-01-01   \n",
       "2  2014-03-19 07:06:49      21989  93-0438772        2014-01-01   \n",
       "3  2014-03-19 07:06:49      21989  93-0438772        2014-01-01   \n",
       "4  2014-03-19 07:06:49      21989  93-0438772        2014-01-01   \n",
       "\n",
       "  RateExpirationDate    ...     IndividualRate IndividualTobaccoRate Couple  \\\n",
       "0         2014-12-31    ...              29.00                   NaN    NaN   \n",
       "1         2014-12-31    ...              36.95                   NaN   73.9   \n",
       "2         2014-12-31    ...              36.95                   NaN   73.9   \n",
       "3         2014-12-31    ...              32.00                   NaN    NaN   \n",
       "4         2014-12-31    ...              32.00                   NaN    NaN   \n",
       "\n",
       "  PrimarySubscriberAndOneDependent  PrimarySubscriberAndTwoDependents  \\\n",
       "0                              NaN                                NaN   \n",
       "1                           107.61                             107.61   \n",
       "2                           107.61                             107.61   \n",
       "3                              NaN                                NaN   \n",
       "4                              NaN                                NaN   \n",
       "\n",
       "   PrimarySubscriberAndThreeOrMoreDependents  CoupleAndOneDependent  \\\n",
       "0                                        NaN                    NaN   \n",
       "1                                     107.61                 144.56   \n",
       "2                                     107.61                 144.56   \n",
       "3                                        NaN                    NaN   \n",
       "4                                        NaN                    NaN   \n",
       "\n",
       "   CoupleAndTwoDependents  CoupleAndThreeOrMoreDependents  RowNumber  \n",
       "0                     NaN                             NaN         14  \n",
       "1                  144.56                          144.56         14  \n",
       "2                  144.56                          144.56         15  \n",
       "3                     NaN                             NaN         15  \n",
       "4                     NaN                             NaN         16  \n",
       "\n",
       "[5 rows x 24 columns]"
      ]
     },
     "execution_count": 22,
     "metadata": {},
     "output_type": "execute_result"
    }
   ],
   "source": [
    "rates.head()"
   ]
  },
  {
   "cell_type": "code",
   "execution_count": 34,
   "metadata": {},
   "outputs": [
    {
     "data": {
      "text/plain": [
       "StateCode\n",
       "AK     7024.934674\n",
       "AL    12131.738408\n",
       "AR    15069.197977\n",
       "AZ     3976.503845\n",
       "Name: IndividualRate, dtype: float64"
      ]
     },
     "execution_count": 34,
     "metadata": {},
     "output_type": "execute_result"
    }
   ],
   "source": [
    "rates.groupby(rates.StateCode).IndividualRate.mean().head(4)"
   ]
  },
  {
   "cell_type": "code",
   "execution_count": 37,
   "metadata": {},
   "outputs": [],
   "source": [
    "rates.groupby([rates.StateCode, rates.BusinessYear]).IndividualRate.mean()"
   ]
  },
  {
   "cell_type": "code",
   "execution_count": 38,
   "metadata": {},
   "outputs": [],
   "source": [
    "# export_.to_csv('../data/groupbystateindrates.csv')"
   ]
  },
  {
   "cell_type": "code",
   "execution_count": 46,
   "metadata": {},
   "outputs": [
    {
     "data": {
      "text/plain": [
       "0.00     682484\n",
       "99.99     87941\n",
       "99.00     36455\n",
       "1.50      24660\n",
       "18.49     15032\n",
       "Name: IndividualRate, dtype: int64"
      ]
     },
     "execution_count": 46,
     "metadata": {},
     "output_type": "execute_result"
    }
   ],
   "source": [
    "rates_1 = rates[rates.IndividualRate < 9000]\n",
    "rates_1.IndividualRate.value_counts().head(5)"
   ]
  },
  {
   "cell_type": "code",
   "execution_count": null,
   "metadata": {},
   "outputs": [],
   "source": [
    "rates_1 = rates[rates.IndividualRate < 9000]\n",
    "rates_1.IndividualRate.value_counts().head(5)"
   ]
  },
  {
   "cell_type": "code",
   "execution_count": 65,
   "metadata": {},
   "outputs": [
    {
     "data": {
      "text/plain": [
       "Index([u'BusinessYear', u'StateCode', u'IssuerId', u'SourceName',\n",
       "       u'VersionNum', u'ImportDate', u'IssuerId2', u'FederalTIN',\n",
       "       u'RateEffectiveDate', u'RateExpirationDate', u'PlanId', u'RatingAreaId',\n",
       "       u'Tobacco', u'Age', u'IndividualRate', u'IndividualTobaccoRate',\n",
       "       u'Couple', u'PrimarySubscriberAndOneDependent',\n",
       "       u'PrimarySubscriberAndTwoDependents',\n",
       "       u'PrimarySubscriberAndThreeOrMoreDependents', u'CoupleAndOneDependent',\n",
       "       u'CoupleAndTwoDependents', u'CoupleAndThreeOrMoreDependents',\n",
       "       u'RowNumber'],\n",
       "      dtype='object')"
      ]
     },
     "execution_count": 65,
     "metadata": {},
     "output_type": "execute_result"
    }
   ],
   "source": [
    "rates_1.columns"
   ]
  },
  {
   "cell_type": "code",
   "execution_count": 74,
   "metadata": {},
   "outputs": [
    {
     "data": {
      "text/html": [
       "<div>\n",
       "<style>\n",
       "    .dataframe thead tr:only-child th {\n",
       "        text-align: right;\n",
       "    }\n",
       "\n",
       "    .dataframe thead th {\n",
       "        text-align: left;\n",
       "    }\n",
       "\n",
       "    .dataframe tbody tr th {\n",
       "        vertical-align: top;\n",
       "    }\n",
       "</style>\n",
       "<table border=\"1\" class=\"dataframe\">\n",
       "  <thead>\n",
       "    <tr style=\"text-align: right;\">\n",
       "      <th></th>\n",
       "      <th>BusinessYear</th>\n",
       "      <th>StateCode</th>\n",
       "      <th>IssuerId</th>\n",
       "      <th>SourceName</th>\n",
       "      <th>VersionNum</th>\n",
       "      <th>ImportDate</th>\n",
       "      <th>IssuerId2</th>\n",
       "      <th>FederalTIN</th>\n",
       "      <th>RateEffectiveDate</th>\n",
       "      <th>RateExpirationDate</th>\n",
       "      <th>...</th>\n",
       "      <th>IndividualRate</th>\n",
       "      <th>IndividualTobaccoRate</th>\n",
       "      <th>Couple</th>\n",
       "      <th>PrimarySubscriberAndOneDependent</th>\n",
       "      <th>PrimarySubscriberAndTwoDependents</th>\n",
       "      <th>PrimarySubscriberAndThreeOrMoreDependents</th>\n",
       "      <th>CoupleAndOneDependent</th>\n",
       "      <th>CoupleAndTwoDependents</th>\n",
       "      <th>CoupleAndThreeOrMoreDependents</th>\n",
       "      <th>RowNumber</th>\n",
       "    </tr>\n",
       "  </thead>\n",
       "  <tbody>\n",
       "    <tr>\n",
       "      <th>1</th>\n",
       "      <td>2014</td>\n",
       "      <td>AK</td>\n",
       "      <td>21989</td>\n",
       "      <td>HIOS</td>\n",
       "      <td>6</td>\n",
       "      <td>2014-03-19 07:06:49</td>\n",
       "      <td>21989</td>\n",
       "      <td>93-0438772</td>\n",
       "      <td>2014-01-01</td>\n",
       "      <td>2014-12-31</td>\n",
       "      <td>...</td>\n",
       "      <td>36.95</td>\n",
       "      <td>NaN</td>\n",
       "      <td>73.9</td>\n",
       "      <td>107.61</td>\n",
       "      <td>107.61</td>\n",
       "      <td>107.61</td>\n",
       "      <td>144.56</td>\n",
       "      <td>144.56</td>\n",
       "      <td>144.56</td>\n",
       "      <td>14</td>\n",
       "    </tr>\n",
       "    <tr>\n",
       "      <th>2</th>\n",
       "      <td>2014</td>\n",
       "      <td>AK</td>\n",
       "      <td>21989</td>\n",
       "      <td>HIOS</td>\n",
       "      <td>6</td>\n",
       "      <td>2014-03-19 07:06:49</td>\n",
       "      <td>21989</td>\n",
       "      <td>93-0438772</td>\n",
       "      <td>2014-01-01</td>\n",
       "      <td>2014-12-31</td>\n",
       "      <td>...</td>\n",
       "      <td>36.95</td>\n",
       "      <td>NaN</td>\n",
       "      <td>73.9</td>\n",
       "      <td>107.61</td>\n",
       "      <td>107.61</td>\n",
       "      <td>107.61</td>\n",
       "      <td>144.56</td>\n",
       "      <td>144.56</td>\n",
       "      <td>144.56</td>\n",
       "      <td>15</td>\n",
       "    </tr>\n",
       "    <tr>\n",
       "      <th>5</th>\n",
       "      <td>2014</td>\n",
       "      <td>AK</td>\n",
       "      <td>21989</td>\n",
       "      <td>HIOS</td>\n",
       "      <td>6</td>\n",
       "      <td>2014-03-19 07:06:49</td>\n",
       "      <td>21989</td>\n",
       "      <td>93-0438772</td>\n",
       "      <td>2014-01-01</td>\n",
       "      <td>2014-12-31</td>\n",
       "      <td>...</td>\n",
       "      <td>36.95</td>\n",
       "      <td>NaN</td>\n",
       "      <td>73.9</td>\n",
       "      <td>107.61</td>\n",
       "      <td>107.61</td>\n",
       "      <td>107.61</td>\n",
       "      <td>144.56</td>\n",
       "      <td>144.56</td>\n",
       "      <td>144.56</td>\n",
       "      <td>16</td>\n",
       "    </tr>\n",
       "    <tr>\n",
       "      <th>6</th>\n",
       "      <td>2014</td>\n",
       "      <td>AK</td>\n",
       "      <td>21989</td>\n",
       "      <td>HIOS</td>\n",
       "      <td>6</td>\n",
       "      <td>2014-03-19 07:06:49</td>\n",
       "      <td>21989</td>\n",
       "      <td>93-0438772</td>\n",
       "      <td>2014-01-01</td>\n",
       "      <td>2014-12-31</td>\n",
       "      <td>...</td>\n",
       "      <td>32.45</td>\n",
       "      <td>NaN</td>\n",
       "      <td>64.9</td>\n",
       "      <td>94.50</td>\n",
       "      <td>94.50</td>\n",
       "      <td>94.50</td>\n",
       "      <td>126.95</td>\n",
       "      <td>126.95</td>\n",
       "      <td>126.95</td>\n",
       "      <td>17</td>\n",
       "    </tr>\n",
       "    <tr>\n",
       "      <th>9</th>\n",
       "      <td>2014</td>\n",
       "      <td>AK</td>\n",
       "      <td>21989</td>\n",
       "      <td>HIOS</td>\n",
       "      <td>6</td>\n",
       "      <td>2014-03-19 07:06:49</td>\n",
       "      <td>21989</td>\n",
       "      <td>93-0438772</td>\n",
       "      <td>2014-01-01</td>\n",
       "      <td>2014-12-31</td>\n",
       "      <td>...</td>\n",
       "      <td>32.45</td>\n",
       "      <td>NaN</td>\n",
       "      <td>64.9</td>\n",
       "      <td>94.50</td>\n",
       "      <td>94.50</td>\n",
       "      <td>94.50</td>\n",
       "      <td>126.95</td>\n",
       "      <td>126.95</td>\n",
       "      <td>126.95</td>\n",
       "      <td>18</td>\n",
       "    </tr>\n",
       "  </tbody>\n",
       "</table>\n",
       "<p>5 rows × 24 columns</p>\n",
       "</div>"
      ],
      "text/plain": [
       "   BusinessYear StateCode  IssuerId SourceName  VersionNum  \\\n",
       "1          2014        AK     21989       HIOS           6   \n",
       "2          2014        AK     21989       HIOS           6   \n",
       "5          2014        AK     21989       HIOS           6   \n",
       "6          2014        AK     21989       HIOS           6   \n",
       "9          2014        AK     21989       HIOS           6   \n",
       "\n",
       "            ImportDate  IssuerId2  FederalTIN RateEffectiveDate  \\\n",
       "1  2014-03-19 07:06:49      21989  93-0438772        2014-01-01   \n",
       "2  2014-03-19 07:06:49      21989  93-0438772        2014-01-01   \n",
       "5  2014-03-19 07:06:49      21989  93-0438772        2014-01-01   \n",
       "6  2014-03-19 07:06:49      21989  93-0438772        2014-01-01   \n",
       "9  2014-03-19 07:06:49      21989  93-0438772        2014-01-01   \n",
       "\n",
       "  RateExpirationDate    ...     IndividualRate IndividualTobaccoRate Couple  \\\n",
       "1         2014-12-31    ...              36.95                   NaN   73.9   \n",
       "2         2014-12-31    ...              36.95                   NaN   73.9   \n",
       "5         2014-12-31    ...              36.95                   NaN   73.9   \n",
       "6         2014-12-31    ...              32.45                   NaN   64.9   \n",
       "9         2014-12-31    ...              32.45                   NaN   64.9   \n",
       "\n",
       "  PrimarySubscriberAndOneDependent  PrimarySubscriberAndTwoDependents  \\\n",
       "1                           107.61                             107.61   \n",
       "2                           107.61                             107.61   \n",
       "5                           107.61                             107.61   \n",
       "6                            94.50                              94.50   \n",
       "9                            94.50                              94.50   \n",
       "\n",
       "   PrimarySubscriberAndThreeOrMoreDependents  CoupleAndOneDependent  \\\n",
       "1                                     107.61                 144.56   \n",
       "2                                     107.61                 144.56   \n",
       "5                                     107.61                 144.56   \n",
       "6                                      94.50                 126.95   \n",
       "9                                      94.50                 126.95   \n",
       "\n",
       "   CoupleAndTwoDependents  CoupleAndThreeOrMoreDependents  RowNumber  \n",
       "1                  144.56                          144.56         14  \n",
       "2                  144.56                          144.56         15  \n",
       "5                  144.56                          144.56         16  \n",
       "6                  126.95                          126.95         17  \n",
       "9                  126.95                          126.95         18  \n",
       "\n",
       "[5 rows x 24 columns]"
      ]
     },
     "execution_count": 74,
     "metadata": {},
     "output_type": "execute_result"
    }
   ],
   "source": [
    "rates_1[rates_1.CoupleAndTwoDependents.isnull() == False].head()"
   ]
  },
  {
   "cell_type": "code",
   "execution_count": null,
   "metadata": {},
   "outputs": [],
   "source": [
    "rates_1."
   ]
  },
  {
   "cell_type": "code",
   "execution_count": null,
   "metadata": {},
   "outputs": [],
   "source": []
  },
  {
   "cell_type": "code",
   "execution_count": 86,
   "metadata": {},
   "outputs": [],
   "source": [
    "l = rates_1.IndividualRate.groupby(rates_1.StateCode).mean()"
   ]
  },
  {
   "cell_type": "code",
   "execution_count": 87,
   "metadata": {},
   "outputs": [],
   "source": [
    "l.to_csv('../data/meanindrate.csv')"
   ]
  },
  {
   "cell_type": "code",
   "execution_count": null,
   "metadata": {},
   "outputs": [],
   "source": []
  },
  {
   "cell_type": "markdown",
   "metadata": {},
   "source": [
    "# The mean Individual Rates for each state across 2014 - 2016"
   ]
  },
  {
   "cell_type": "code",
   "execution_count": 53,
   "metadata": {},
   "outputs": [],
   "source": [
    "export_2 = rates_1.groupby([rates_1.StateCode, rates_1.BusinessYear]).IndividualRate.mean()"
   ]
  },
  {
   "cell_type": "code",
   "execution_count": 54,
   "metadata": {},
   "outputs": [],
   "source": [
    "export_2.to_csv('../data/export_2.csv')"
   ]
  },
  {
   "cell_type": "code",
   "execution_count": 55,
   "metadata": {},
   "outputs": [
    {
     "data": {
      "text/plain": [
       "array([     nan,   111.74,   193.59, ...,  1331.4 ,  1150.62,  1191.32])"
      ]
     },
     "execution_count": 55,
     "metadata": {},
     "output_type": "execute_result"
    }
   ],
   "source": [
    "rates_1.IndividualTobaccoRate.unique()"
   ]
  },
  {
   "cell_type": "code",
   "execution_count": 56,
   "metadata": {},
   "outputs": [
    {
     "data": {
      "text/plain": [
       "12621995"
      ]
     },
     "execution_count": 56,
     "metadata": {},
     "output_type": "execute_result"
    }
   ],
   "source": [
    "rates_1.IndividualRate.count()"
   ]
  },
  {
   "cell_type": "code",
   "execution_count": 57,
   "metadata": {},
   "outputs": [
    {
     "data": {
      "text/plain": [
       "4932349"
      ]
     },
     "execution_count": 57,
     "metadata": {},
     "output_type": "execute_result"
    }
   ],
   "source": [
    "rates_1.IndividualTobaccoRate.count()"
   ]
  },
  {
   "cell_type": "code",
   "execution_count": 58,
   "metadata": {},
   "outputs": [
    {
     "data": {
      "text/plain": [
       "(12621995, 24)"
      ]
     },
     "execution_count": 58,
     "metadata": {},
     "output_type": "execute_result"
    }
   ],
   "source": [
    "rates_1.shape"
   ]
  },
  {
   "cell_type": "code",
   "execution_count": 276,
   "metadata": {},
   "outputs": [
    {
     "data": {
      "text/html": [
       "<div>\n",
       "<style>\n",
       "    .dataframe thead tr:only-child th {\n",
       "        text-align: right;\n",
       "    }\n",
       "\n",
       "    .dataframe thead th {\n",
       "        text-align: left;\n",
       "    }\n",
       "\n",
       "    .dataframe tbody tr th {\n",
       "        vertical-align: top;\n",
       "    }\n",
       "</style>\n",
       "<table border=\"1\" class=\"dataframe\">\n",
       "  <thead>\n",
       "    <tr style=\"text-align: right;\">\n",
       "      <th></th>\n",
       "      <th>BusinessYear</th>\n",
       "      <th>IndividualRate</th>\n",
       "      <th>IndividualTobaccoRate</th>\n",
       "      <th>SurCharge</th>\n",
       "    </tr>\n",
       "    <tr>\n",
       "      <th>StateCode</th>\n",
       "      <th></th>\n",
       "      <th></th>\n",
       "      <th></th>\n",
       "      <th></th>\n",
       "    </tr>\n",
       "  </thead>\n",
       "  <tbody>\n",
       "    <tr>\n",
       "      <th>AK</th>\n",
       "      <td>13344876</td>\n",
       "      <td>4.651114e+06</td>\n",
       "      <td>4.997045e+06</td>\n",
       "      <td>1.074376</td>\n",
       "    </tr>\n",
       "    <tr>\n",
       "      <th>AL</th>\n",
       "      <td>53858502</td>\n",
       "      <td>1.016891e+07</td>\n",
       "      <td>1.134159e+07</td>\n",
       "      <td>1.115319</td>\n",
       "    </tr>\n",
       "    <tr>\n",
       "      <th>AR</th>\n",
       "      <td>45238608</td>\n",
       "      <td>9.572834e+06</td>\n",
       "      <td>1.130994e+07</td>\n",
       "      <td>1.181462</td>\n",
       "    </tr>\n",
       "    <tr>\n",
       "      <th>AZ</th>\n",
       "      <td>156540576</td>\n",
       "      <td>3.173432e+07</td>\n",
       "      <td>3.611266e+07</td>\n",
       "      <td>1.137969</td>\n",
       "    </tr>\n",
       "    <tr>\n",
       "      <th>DE</th>\n",
       "      <td>19744350</td>\n",
       "      <td>4.947674e+06</td>\n",
       "      <td>5.262465e+06</td>\n",
       "      <td>1.063624</td>\n",
       "    </tr>\n",
       "    <tr>\n",
       "      <th>FL</th>\n",
       "      <td>1376561546</td>\n",
       "      <td>3.134907e+08</td>\n",
       "      <td>3.684352e+08</td>\n",
       "      <td>1.175267</td>\n",
       "    </tr>\n",
       "    <tr>\n",
       "      <th>GA</th>\n",
       "      <td>222271678</td>\n",
       "      <td>4.692623e+07</td>\n",
       "      <td>5.742342e+07</td>\n",
       "      <td>1.223696</td>\n",
       "    </tr>\n",
       "    <tr>\n",
       "      <th>HI</th>\n",
       "      <td>1947456</td>\n",
       "      <td>3.705168e+05</td>\n",
       "      <td>4.439991e+05</td>\n",
       "      <td>1.198324</td>\n",
       "    </tr>\n",
       "    <tr>\n",
       "      <th>IA</th>\n",
       "      <td>152429832</td>\n",
       "      <td>2.988349e+07</td>\n",
       "      <td>3.842305e+07</td>\n",
       "      <td>1.285762</td>\n",
       "    </tr>\n",
       "    <tr>\n",
       "      <th>ID</th>\n",
       "      <td>99592300</td>\n",
       "      <td>1.956531e+07</td>\n",
       "      <td>2.580015e+07</td>\n",
       "      <td>1.318668</td>\n",
       "    </tr>\n",
       "    <tr>\n",
       "      <th>IL</th>\n",
       "      <td>570944502</td>\n",
       "      <td>1.282307e+08</td>\n",
       "      <td>1.379406e+08</td>\n",
       "      <td>1.075722</td>\n",
       "    </tr>\n",
       "    <tr>\n",
       "      <th>IN</th>\n",
       "      <td>770308502</td>\n",
       "      <td>1.895732e+08</td>\n",
       "      <td>2.682177e+08</td>\n",
       "      <td>1.414850</td>\n",
       "    </tr>\n",
       "    <tr>\n",
       "      <th>KS</th>\n",
       "      <td>122062472</td>\n",
       "      <td>1.991705e+07</td>\n",
       "      <td>2.371687e+07</td>\n",
       "      <td>1.190782</td>\n",
       "    </tr>\n",
       "    <tr>\n",
       "      <th>LA</th>\n",
       "      <td>192894606</td>\n",
       "      <td>4.606650e+07</td>\n",
       "      <td>5.490143e+07</td>\n",
       "      <td>1.191787</td>\n",
       "    </tr>\n",
       "    <tr>\n",
       "      <th>ME</th>\n",
       "      <td>49681058</td>\n",
       "      <td>1.131309e+07</td>\n",
       "      <td>1.377256e+07</td>\n",
       "      <td>1.217400</td>\n",
       "    </tr>\n",
       "    <tr>\n",
       "      <th>MI</th>\n",
       "      <td>346577984</td>\n",
       "      <td>7.293262e+07</td>\n",
       "      <td>8.201867e+07</td>\n",
       "      <td>1.124581</td>\n",
       "    </tr>\n",
       "    <tr>\n",
       "      <th>MO</th>\n",
       "      <td>87039222</td>\n",
       "      <td>1.837300e+07</td>\n",
       "      <td>2.156308e+07</td>\n",
       "      <td>1.173629</td>\n",
       "    </tr>\n",
       "    <tr>\n",
       "      <th>MS</th>\n",
       "      <td>52742818</td>\n",
       "      <td>1.092995e+07</td>\n",
       "      <td>1.253127e+07</td>\n",
       "      <td>1.146508</td>\n",
       "    </tr>\n",
       "    <tr>\n",
       "      <th>MT</th>\n",
       "      <td>93057816</td>\n",
       "      <td>1.882642e+07</td>\n",
       "      <td>2.317141e+07</td>\n",
       "      <td>1.230792</td>\n",
       "    </tr>\n",
       "    <tr>\n",
       "      <th>NC</th>\n",
       "      <td>121613144</td>\n",
       "      <td>2.805495e+07</td>\n",
       "      <td>3.308890e+07</td>\n",
       "      <td>1.179432</td>\n",
       "    </tr>\n",
       "    <tr>\n",
       "      <th>ND</th>\n",
       "      <td>36334112</td>\n",
       "      <td>7.100669e+06</td>\n",
       "      <td>8.224491e+06</td>\n",
       "      <td>1.158270</td>\n",
       "    </tr>\n",
       "    <tr>\n",
       "      <th>NE</th>\n",
       "      <td>62369100</td>\n",
       "      <td>1.254863e+07</td>\n",
       "      <td>1.582028e+07</td>\n",
       "      <td>1.260718</td>\n",
       "    </tr>\n",
       "    <tr>\n",
       "      <th>NH</th>\n",
       "      <td>18171288</td>\n",
       "      <td>3.579547e+06</td>\n",
       "      <td>4.302815e+06</td>\n",
       "      <td>1.202056</td>\n",
       "    </tr>\n",
       "    <tr>\n",
       "      <th>NM</th>\n",
       "      <td>41896202</td>\n",
       "      <td>6.862309e+06</td>\n",
       "      <td>8.559082e+06</td>\n",
       "      <td>1.247260</td>\n",
       "    </tr>\n",
       "    <tr>\n",
       "      <th>NV</th>\n",
       "      <td>37176786</td>\n",
       "      <td>8.078692e+06</td>\n",
       "      <td>1.048837e+07</td>\n",
       "      <td>1.298276</td>\n",
       "    </tr>\n",
       "    <tr>\n",
       "      <th>OH</th>\n",
       "      <td>474673816</td>\n",
       "      <td>1.034255e+08</td>\n",
       "      <td>1.270326e+08</td>\n",
       "      <td>1.228252</td>\n",
       "    </tr>\n",
       "    <tr>\n",
       "      <th>OK</th>\n",
       "      <td>81470048</td>\n",
       "      <td>1.634417e+07</td>\n",
       "      <td>1.926940e+07</td>\n",
       "      <td>1.178977</td>\n",
       "    </tr>\n",
       "    <tr>\n",
       "      <th>OR</th>\n",
       "      <td>90020298</td>\n",
       "      <td>1.614868e+07</td>\n",
       "      <td>1.804347e+07</td>\n",
       "      <td>1.117334</td>\n",
       "    </tr>\n",
       "    <tr>\n",
       "      <th>PA</th>\n",
       "      <td>646479952</td>\n",
       "      <td>1.337309e+08</td>\n",
       "      <td>1.479354e+08</td>\n",
       "      <td>1.106216</td>\n",
       "    </tr>\n",
       "    <tr>\n",
       "      <th>SC</th>\n",
       "      <td>2095815936</td>\n",
       "      <td>5.041817e+08</td>\n",
       "      <td>6.015026e+08</td>\n",
       "      <td>1.193027</td>\n",
       "    </tr>\n",
       "    <tr>\n",
       "      <th>SD</th>\n",
       "      <td>52458501</td>\n",
       "      <td>1.138357e+07</td>\n",
       "      <td>1.248707e+07</td>\n",
       "      <td>1.096938</td>\n",
       "    </tr>\n",
       "    <tr>\n",
       "      <th>TN</th>\n",
       "      <td>121144082</td>\n",
       "      <td>2.448062e+07</td>\n",
       "      <td>2.835550e+07</td>\n",
       "      <td>1.158284</td>\n",
       "    </tr>\n",
       "    <tr>\n",
       "      <th>TX</th>\n",
       "      <td>343776170</td>\n",
       "      <td>6.588474e+07</td>\n",
       "      <td>8.216327e+07</td>\n",
       "      <td>1.247076</td>\n",
       "    </tr>\n",
       "    <tr>\n",
       "      <th>UT</th>\n",
       "      <td>127999508</td>\n",
       "      <td>2.158434e+07</td>\n",
       "      <td>2.385815e+07</td>\n",
       "      <td>1.105345</td>\n",
       "    </tr>\n",
       "    <tr>\n",
       "      <th>VA</th>\n",
       "      <td>267095964</td>\n",
       "      <td>6.847277e+07</td>\n",
       "      <td>8.293732e+07</td>\n",
       "      <td>1.211245</td>\n",
       "    </tr>\n",
       "    <tr>\n",
       "      <th>WI</th>\n",
       "      <td>675401394</td>\n",
       "      <td>1.635773e+08</td>\n",
       "      <td>1.947132e+08</td>\n",
       "      <td>1.190344</td>\n",
       "    </tr>\n",
       "    <tr>\n",
       "      <th>WV</th>\n",
       "      <td>185868382</td>\n",
       "      <td>5.090982e+07</td>\n",
       "      <td>5.290880e+07</td>\n",
       "      <td>1.039265</td>\n",
       "    </tr>\n",
       "    <tr>\n",
       "      <th>WY</th>\n",
       "      <td>31978050</td>\n",
       "      <td>9.337776e+06</td>\n",
       "      <td>1.260032e+07</td>\n",
       "      <td>1.349392</td>\n",
       "    </tr>\n",
       "  </tbody>\n",
       "</table>\n",
       "</div>"
      ],
      "text/plain": [
       "           BusinessYear  IndividualRate  IndividualTobaccoRate  SurCharge\n",
       "StateCode                                                                \n",
       "AK             13344876    4.651114e+06           4.997045e+06   1.074376\n",
       "AL             53858502    1.016891e+07           1.134159e+07   1.115319\n",
       "AR             45238608    9.572834e+06           1.130994e+07   1.181462\n",
       "AZ            156540576    3.173432e+07           3.611266e+07   1.137969\n",
       "DE             19744350    4.947674e+06           5.262465e+06   1.063624\n",
       "FL           1376561546    3.134907e+08           3.684352e+08   1.175267\n",
       "GA            222271678    4.692623e+07           5.742342e+07   1.223696\n",
       "HI              1947456    3.705168e+05           4.439991e+05   1.198324\n",
       "IA            152429832    2.988349e+07           3.842305e+07   1.285762\n",
       "ID             99592300    1.956531e+07           2.580015e+07   1.318668\n",
       "IL            570944502    1.282307e+08           1.379406e+08   1.075722\n",
       "IN            770308502    1.895732e+08           2.682177e+08   1.414850\n",
       "KS            122062472    1.991705e+07           2.371687e+07   1.190782\n",
       "LA            192894606    4.606650e+07           5.490143e+07   1.191787\n",
       "ME             49681058    1.131309e+07           1.377256e+07   1.217400\n",
       "MI            346577984    7.293262e+07           8.201867e+07   1.124581\n",
       "MO             87039222    1.837300e+07           2.156308e+07   1.173629\n",
       "MS             52742818    1.092995e+07           1.253127e+07   1.146508\n",
       "MT             93057816    1.882642e+07           2.317141e+07   1.230792\n",
       "NC            121613144    2.805495e+07           3.308890e+07   1.179432\n",
       "ND             36334112    7.100669e+06           8.224491e+06   1.158270\n",
       "NE             62369100    1.254863e+07           1.582028e+07   1.260718\n",
       "NH             18171288    3.579547e+06           4.302815e+06   1.202056\n",
       "NM             41896202    6.862309e+06           8.559082e+06   1.247260\n",
       "NV             37176786    8.078692e+06           1.048837e+07   1.298276\n",
       "OH            474673816    1.034255e+08           1.270326e+08   1.228252\n",
       "OK             81470048    1.634417e+07           1.926940e+07   1.178977\n",
       "OR             90020298    1.614868e+07           1.804347e+07   1.117334\n",
       "PA            646479952    1.337309e+08           1.479354e+08   1.106216\n",
       "SC           2095815936    5.041817e+08           6.015026e+08   1.193027\n",
       "SD             52458501    1.138357e+07           1.248707e+07   1.096938\n",
       "TN            121144082    2.448062e+07           2.835550e+07   1.158284\n",
       "TX            343776170    6.588474e+07           8.216327e+07   1.247076\n",
       "UT            127999508    2.158434e+07           2.385815e+07   1.105345\n",
       "VA            267095964    6.847277e+07           8.293732e+07   1.211245\n",
       "WI            675401394    1.635773e+08           1.947132e+08   1.190344\n",
       "WV            185868382    5.090982e+07           5.290880e+07   1.039265\n",
       "WY             31978050    9.337776e+06           1.260032e+07   1.349392"
      ]
     },
     "execution_count": 276,
     "metadata": {},
     "output_type": "execute_result"
    }
   ],
   "source": [
    "d = pd.DataFrame(rates_1[rates_1.IndividualTobaccoRate.isnull() != True][['BusinessYear', \n",
    "                                                         'StateCode','IndividualRate', \n",
    "                                                         'IndividualTobaccoRate']].groupby('StateCode').sum())\n",
    "\n",
    "d['SurCharge'] = d.IndividualTobaccoRate/d.IndividualRate\n",
    "d"
   ]
  },
  {
   "cell_type": "code",
   "execution_count": 300,
   "metadata": {},
   "outputs": [
    {
     "data": {
      "image/png": "[encoded data removed]",
      "text/plain": [
       "<matplotlib.figure.Figure at 0x12e0a3e50>"
      ]
     },
     "metadata": {},
     "output_type": "display_data"
    }
   ],
   "source": [
    "d['SurCharge'].sort_values(ascending = False).plot(figsize = (16,12), color = 'green')\n",
    "\n",
    "plt.show()"
   ]
  },
  {
   "cell_type": "code",
   "execution_count": 71,
   "metadata": {},
   "outputs": [
    {
     "data": {
      "text/plain": [
       "39"
      ]
     },
     "execution_count": 71,
     "metadata": {},
     "output_type": "execute_result"
    }
   ],
   "source": [
    "len(rates_1.StateCode.unique())"
   ]
  },
  {
   "cell_type": "code",
   "execution_count": null,
   "metadata": {},
   "outputs": [],
   "source": []
  }
 ],
 "metadata": {
  "kernelspec": {
   "display_name": "Python 2",
   "language": "python",
   "name": "python2"
  },
  "language_info": {
   "codemirror_mode": {
    "name": "ipython",
    "version": 2
   },
   "file_extension": ".py",
   "mimetype": "text/x-python",
   "name": "python",
   "nbconvert_exporter": "python",
   "pygments_lexer": "ipython2",
   "version": "2.7.13"
  }
 },
 "nbformat": 4,
 "nbformat_minor": 2
}
